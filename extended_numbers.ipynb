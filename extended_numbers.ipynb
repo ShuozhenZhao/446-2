{
 "cells": [
  {
   "cell_type": "code",
   "execution_count": null,
   "id": "d9e7359a",
   "metadata": {},
   "outputs": [],
   "source": [
    "\n",
    "import numpy as np\n",
    "import numbers\n",
    "\n",
    "class C:\n",
    "    \n",
    "    def __init__(self, data):\n",
    "        self.data = np.array(data)\n",
    "    \n",
    "    def __repr__(self):\n",
    "        return \"%s + %s i\" %(self.data[0], self.data[1])\n",
    "    \n",
    "    def __eq__(self, other):\n",
    "        return np.allclose(self.data, other.data)\n",
    "    \n",
    "    def __add__(self, other):\n",
    "        return C( self.data + other.data )\n",
    "    \n",
    "    def __neg__(self):\n",
    "        return C( -self.data )\n",
    "    \n",
    "    def __sub__(self, other):\n",
    "        return self + (-other)\n",
    "    \n",
    "    def __mul__(self, other):\n",
    "        if isinstance(other, C):\n",
    "            return C( (self.data[0]*other.data[0] - self.data[1]*other.data[1],\n",
    "                       self.data[0]*other.data[1] + self.data[1]*other.data[0]) )\n",
    "        elif isinstance(other, numbers.Number):\n",
    "            return C( other*self.data )\n",
    "        else:\n",
    "            raise ValueError(\"Can only multiply complex numbers by other complex numbers or by scalars\")\n",
    "            \n",
    "    def __rmul__(self, other):\n",
    "        if isinstance(other, numbers.Number):\n",
    "            return C( other*self.data )\n",
    "        else:\n",
    "            raise ValueError(\"Can only multiply complex numbers by other complex numbers or by scalars\")    \n"
   ]
  }
 ],
 "metadata": {
  "kernelspec": {
   "display_name": "Python 3 (ipykernel)",
   "language": "python",
   "name": "python3"
  },
  "language_info": {
   "codemirror_mode": {
    "name": "ipython",
    "version": 3
   },
   "file_extension": ".py",
   "mimetype": "text/x-python",
   "name": "python",
   "nbconvert_exporter": "python",
   "pygments_lexer": "ipython3",
   "version": "3.9.7"
  }
 },
 "nbformat": 4,
 "nbformat_minor": 5
}
